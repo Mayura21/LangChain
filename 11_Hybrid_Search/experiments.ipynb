{
 "cells": [
  {
   "cell_type": "markdown",
   "id": "b7c145d0",
   "metadata": {},
   "source": [
    "### Hybrid Search"
   ]
  },
  {
   "cell_type": "code",
   "execution_count": null,
   "id": "d9205fe1",
   "metadata": {},
   "outputs": [],
   "source": [
    "!pip install --upgrade --quite pinecone-client pinecone-text pinecone-notebooks"
   ]
  },
  {
   "cell_type": "code",
   "execution_count": null,
   "id": "d523275b",
   "metadata": {},
   "outputs": [],
   "source": [
    "api_key = \"\""
   ]
  },
  {
   "cell_type": "code",
   "execution_count": null,
   "id": "c5c7e2d7",
   "metadata": {},
   "outputs": [],
   "source": [
    "from langchain_community.retrievers import PineconeHybridSearchRetriever"
   ]
  },
  {
   "cell_type": "code",
   "execution_count": null,
   "id": "751b3bd1",
   "metadata": {},
   "outputs": [],
   "source": [
    "import os\n",
    "from pinecone import Pinecone, ServerlessSpec\n",
    "\n",
    "index_name = \"hybrid-search-langchain-pinecone\"\n",
    "\n",
    "# initialize pinecone client\n",
    "pc = Pinecone(api_key=api_key)\n",
    "\n",
    "# Create index\n",
    "if index_name not in pc.list_indexes().names():\n",
    "    pc.create_index(\n",
    "        name=index_name,\n",
    "        dimension=384,   # Dimension of dense vector\n",
    "        metric='dotproduct',        ## Sparse values supported only for dotproduct\n",
    "        spec=ServerlessSpec(cloud='aws', region=\"us-east-1\")\n",
    "    )"
   ]
  },
  {
   "cell_type": "code",
   "execution_count": null,
   "id": "8d213782",
   "metadata": {},
   "outputs": [],
   "source": [
    "index = pc.Index(index_name)\n",
    "index"
   ]
  },
  {
   "cell_type": "code",
   "execution_count": 6,
   "id": "814c0ff6",
   "metadata": {},
   "outputs": [
    {
     "data": {
      "text/plain": [
       "HuggingFaceEmbeddings(model_name='all-MiniLM-L6-v2', cache_folder=None, model_kwargs={}, encode_kwargs={}, multi_process=False, show_progress=False)"
      ]
     },
     "execution_count": 6,
     "metadata": {},
     "output_type": "execute_result"
    }
   ],
   "source": [
    "import os\n",
    "from dotenv import load_dotenv\n",
    "\n",
    "load_dotenv()\n",
    "\n",
    "from langchain_huggingface import HuggingFaceEmbeddings\n",
    "\n",
    "os.environ[\"HF_TOKEN\"] = os.getenv(\"HF_TOKEN\")\n",
    "embeddings = HuggingFaceEmbeddings(model_name=\"all-MiniLM-L6-v2\")\n",
    "embeddings"
   ]
  },
  {
   "cell_type": "code",
   "execution_count": null,
   "id": "c90fbbd8",
   "metadata": {},
   "outputs": [],
   "source": [
    "from pinecone_text.sparse import BM25Encoder\n",
    "\n",
    "bm25_encoder = BM25Encoder().default()\n",
    "bm25_encoder"
   ]
  },
  {
   "cell_type": "code",
   "execution_count": null,
   "id": "532ab39f",
   "metadata": {},
   "outputs": [],
   "source": [
    "sentences = [\n",
    "    \"In 2023, I visited new york\",\n",
    "    \"In 2022, I visited Paris\",\n",
    "    \"In 2021, I visited Orleans\"\n",
    "]\n",
    "\n",
    "# TFIDF values on these encoders\n",
    "bm25_encoder.fit(sentences)\n",
    "\n",
    "# Store the values to a json file\n",
    "bm25_encoder.dump(\"bm25_values.json\")\n",
    "\n",
    "bm25_encoder = BM25Encoder().load(\"bm25_values.json\")"
   ]
  },
  {
   "cell_type": "code",
   "execution_count": null,
   "id": "283e214a",
   "metadata": {},
   "outputs": [],
   "source": [
    "retriever = PineconHybridSearchRetriever(embeddings=embeddings, spase_encoder=bm25_encoder, index=index)\n",
    "\n",
    "retriever"
   ]
  },
  {
   "cell_type": "code",
   "execution_count": null,
   "id": "d04e7ad9",
   "metadata": {},
   "outputs": [],
   "source": [
    "retriever.add(sentences)"
   ]
  },
  {
   "cell_type": "code",
   "execution_count": null,
   "id": "d2d0ca98",
   "metadata": {},
   "outputs": [],
   "source": [
    "retriever.invoke(\"What city did I visit last\")"
   ]
  },
  {
   "cell_type": "code",
   "execution_count": null,
   "id": "ccdf5a67",
   "metadata": {},
   "outputs": [],
   "source": [
    "retriever.invoke(\"What city did I visit recent\")"
   ]
  },
  {
   "cell_type": "code",
   "execution_count": null,
   "id": "922a4723",
   "metadata": {},
   "outputs": [],
   "source": [
    "retriever.invoke(\"What city did I visit first\")"
   ]
  }
 ],
 "metadata": {
  "kernelspec": {
   "display_name": "venv",
   "language": "python",
   "name": "python3"
  },
  "language_info": {
   "codemirror_mode": {
    "name": "ipython",
    "version": 3
   },
   "file_extension": ".py",
   "mimetype": "text/x-python",
   "name": "python",
   "nbconvert_exporter": "python",
   "pygments_lexer": "ipython3",
   "version": "3.10.9"
  }
 },
 "nbformat": 4,
 "nbformat_minor": 5
}
