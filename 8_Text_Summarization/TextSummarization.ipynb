{
 "cells": [
  {
   "cell_type": "markdown",
   "id": "67b13c61",
   "metadata": {},
   "source": [
    "## Text Summarization"
   ]
  },
  {
   "cell_type": "code",
   "execution_count": 1,
   "id": "949c5fd2",
   "metadata": {},
   "outputs": [
    {
     "data": {
      "text/plain": [
       "True"
      ]
     },
     "execution_count": 1,
     "metadata": {},
     "output_type": "execute_result"
    }
   ],
   "source": [
    "import os\n",
    "from dotenv import load_dotenv\n",
    "load_dotenv()"
   ]
  },
  {
   "cell_type": "code",
   "execution_count": 2,
   "id": "ce479600",
   "metadata": {},
   "outputs": [
    {
     "data": {
      "text/plain": [
       "ChatGroq(client=<groq.resources.chat.completions.Completions object at 0x0000024C23264A60>, async_client=<groq.resources.chat.completions.AsyncCompletions object at 0x0000024C23265E10>, model_name='Llama3-8b-8192', model_kwargs={}, groq_api_key=SecretStr('**********'))"
      ]
     },
     "execution_count": 2,
     "metadata": {},
     "output_type": "execute_result"
    }
   ],
   "source": [
    "from langchain_groq import ChatGroq\n",
    "\n",
    "api_key = os.getenv(\"GROQ_API_KEY\")\n",
    "llm = ChatGroq(api_key=api_key, model=\"Llama3-8b-8192\")\n",
    "llm"
   ]
  },
  {
   "cell_type": "code",
   "execution_count": 3,
   "id": "154006ea",
   "metadata": {},
   "outputs": [],
   "source": [
    "from langchain.schema import (\n",
    "    AIMessage,\n",
    "    HumanMessage,\n",
    "    SystemMessage\n",
    ")"
   ]
  },
  {
   "cell_type": "code",
   "execution_count": 4,
   "id": "c613c615",
   "metadata": {},
   "outputs": [],
   "source": [
    "speech = \"\"\"\n",
    "Since this morning, Bharat Mandapam has become a vibrant platform. Just a few minutes ago, I had the opportunity to meet your team. This summit has been full of diversity. Many dignitaries have added colour to this summit. I believe your experience must have been very enriching as well. The large presence of youth and women in this summit has, in a way, become its unique feature. Especially, the experiences shared by our Drone Didis and Lakhpati Didis—when I met all these anchors just now, I could see the enthusiasm with which they were sharing their stories. They remembered every dialogue of theirs. This, in itself, has been a truly inspiring occasion.\n",
    "\n",
    "Friends,\n",
    "\n",
    "This is a reflection of the changing Bharat, which is raising its voice in every field. The biggest dream of this transforming Bharat is — a ‘Viksit Bharat’ (Developed India) by 2047. Our country has the capability, the resources, and the willpower to achieve this. Swami Vivekananda used to say — “Arise, awake, and stop not till the goal is reached.” Today, I can see that very spirit in every Indian. Such deliberations, such discussions, and especially the participation of youth, play a crucial role to achieve the goal of a ‘Viksit Bharat’. You have organized such a wonderful summit, and for this, I heartily congratulate my friend Atideb Sarkar ji, my old colleague Rajneesh, and the entire ABP Network team.\n",
    "\n",
    "Friends,\n",
    "\n",
    "Today is a historic day for Bharat. Just a short while ago, I had a conversation with the Prime Minister of the United Kingdom before coming here. I’m happy to share that the India–UK Free Trade Agreement has now been finalized. This agreement on mutual trade and economic cooperation between two of the world's major and open-market economies will add a new chapter to the development of both countries. This is great news, especially for our youth. It will give a boost to economic activity in Bharat and open up new opportunities for Indian businesses and MSMEs. As you know, we have recently signed trade agreements with countries like UAE, Australia, and Mauritius as well. This shows that Bharat is not just implementing reforms, but is also actively engaging with the world and transforming itself into a vibrant hub for trade and commerce.\n",
    "\n",
    "Friends,\n",
    "\n",
    "To make bold decisions and to achieve our goals, it is essential to put the nation’s interests first and to have faith in the country’s capabilities. Unfortunately, there was a prevailing contrary mind-set for decades in our country and the nation suffered greatly because of it. There was a time when before taking any major decision or step, leaders would think: What will the world think? Will it get us votes? Will the chair remain secure? Will the vote bank slip away? Major decisions and big reforms kept getting postponed because of various self-serving interests.\n",
    "\n",
    "Friends,\n",
    "\n",
    "No country can move forward in such a manner. A nation progresses only when the sole criterion for every decision is — Nation First. Over the past decade, Bharat has moved forward with this very policy. And today, we are witnessing its results.\n",
    "\n",
    "Friends,\n",
    "\n",
    "In the past 10–11 years, our government has made one decision after another — decisions that had been stuck, delayed, or derailed for decades, locked away due to lack of political will. Take, for example, our banking sector — which is the backbone of the economy. Earlier, no summit would be complete without discussing the losses of banks. And banks in our country were on the verge of complete collapse before 2014. But what is the situation today? Today, Bharat’s banking sector is among the strongest systems in the world. Our banks are posting record profits, and depositors are reaping the benefits. This has been possible because our government continuously carried out reforms in the banking sector — merging smaller banks in the national interest and enhancing their capabilities. You might also remember the previous state of Air India. Air India was sinking, and thousands of crores of rupees were being lost every year. Yet the earlier governments were afraid to take a decision. We took that decision and saved the country from continuous losses. Why? Because, the interest of the nation comes first for us.\n",
    "\n",
    "Friends,\n",
    "\n",
    "A former Prime Minister of our country once admitted that when the government sends one rupee to the poor, 85 paise gets lost along the way. Governments changed, years passed, but no concrete steps were taken to ensure that the full amount due to the poor actually reached them. Our goal was that if one rupee is sent from Delhi, then all 100 paise should reach the beneficiary. For this, we implemented the Direct Benefit Transfer (DBT) system. This stopped the leakage in government schemes and ensured that benefits directly reached the intended recipients. Let me explain — government files contained 10 crore fake beneficiaries. Yes, 10 crore! People who were never even born were receiving full government benefits. This system was created by the earlier governments. Our government removed these 10 crore fake names from the system and ensured that the entire amount reached the poor directly into their bank accounts via DBT. As a result, more than 3.5 lakh crore rupees — yes, over 3.5 lakh crore rupees— was saved from falling into the wrong hands. In other words, we saved your money. Your money was saved, but Modi was rebuked.\n",
    "\n",
    "Friends,\n",
    "\n",
    "Take the case of One Rank, One Pension (OROP). It had been pending for many decades. Earlier, it was dismissed with the excuse that it would burden the government treasury. But our government placed the interests of those who dedicated their lives to defending the nation above everything else. Today, lakhs of soldier families are benefiting from OROP. So far, our government has disbursed more than 1.25 lakh crore rupees to ex-servicemen under this scheme.\n",
    "\"\"\""
   ]
  },
  {
   "cell_type": "code",
   "execution_count": 5,
   "id": "79633f2d",
   "metadata": {},
   "outputs": [
    {
     "data": {
      "text/plain": [
       "\"\\nSince this morning, Bharat Mandapam has become a vibrant platform. Just a few minutes ago, I had the opportunity to meet your team. This summit has been full of diversity. Many dignitaries have added colour to this summit. I believe your experience must have been very enriching as well. The large presence of youth and women in this summit has, in a way, become its unique feature. Especially, the experiences shared by our Drone Didis and Lakhpati Didis—when I met all these anchors just now, I could see the enthusiasm with which they were sharing their stories. They remembered every dialogue of theirs. This, in itself, has been a truly inspiring occasion.\\n\\nFriends,\\n\\nThis is a reflection of the changing Bharat, which is raising its voice in every field. The biggest dream of this transforming Bharat is — a ‘Viksit Bharat’ (Developed India) by 2047. Our country has the capability, the resources, and the willpower to achieve this. Swami Vivekananda used to say — “Arise, awake, and stop not till the goal is reached.” Today, I can see that very spirit in every Indian. Such deliberations, such discussions, and especially the participation of youth, play a crucial role to achieve the goal of a ‘Viksit Bharat’. You have organized such a wonderful summit, and for this, I heartily congratulate my friend Atideb Sarkar ji, my old colleague Rajneesh, and the entire ABP Network team.\\n\\nFriends,\\n\\nToday is a historic day for Bharat. Just a short while ago, I had a conversation with the Prime Minister of the United Kingdom before coming here. I’m happy to share that the India–UK Free Trade Agreement has now been finalized. This agreement on mutual trade and economic cooperation between two of the world's major and open-market economies will add a new chapter to the development of both countries. This is great news, especially for our youth. It will give a boost to economic activity in Bharat and open up new opportunities for Indian businesses and MSMEs. As you know, we have recently signed trade agreements with countries like UAE, Australia, and Mauritius as well. This shows that Bharat is not just implementing reforms, but is also actively engaging with the world and transforming itself into a vibrant hub for trade and commerce.\\n\\nFriends,\\n\\nTo make bold decisions and to achieve our goals, it is essential to put the nation’s interests first and to have faith in the country’s capabilities. Unfortunately, there was a prevailing contrary mind-set for decades in our country and the nation suffered greatly because of it. There was a time when before taking any major decision or step, leaders would think: What will the world think? Will it get us votes? Will the chair remain secure? Will the vote bank slip away? Major decisions and big reforms kept getting postponed because of various self-serving interests.\\n\\nFriends,\\n\\nNo country can move forward in such a manner. A nation progresses only when the sole criterion for every decision is — Nation First. Over the past decade, Bharat has moved forward with this very policy. And today, we are witnessing its results.\\n\\nFriends,\\n\\nIn the past 10–11 years, our government has made one decision after another — decisions that had been stuck, delayed, or derailed for decades, locked away due to lack of political will. Take, for example, our banking sector — which is the backbone of the economy. Earlier, no summit would be complete without discussing the losses of banks. And banks in our country were on the verge of complete collapse before 2014. But what is the situation today? Today, Bharat’s banking sector is among the strongest systems in the world. Our banks are posting record profits, and depositors are reaping the benefits. This has been possible because our government continuously carried out reforms in the banking sector — merging smaller banks in the national interest and enhancing their capabilities. You might also remember the previous state of Air India. Air India was sinking, and thousands of crores of rupees were being lost every year. Yet the earlier governments were afraid to take a decision. We took that decision and saved the country from continuous losses. Why? Because, the interest of the nation comes first for us.\\n\\nFriends,\\n\\nA former Prime Minister of our country once admitted that when the government sends one rupee to the poor, 85 paise gets lost along the way. Governments changed, years passed, but no concrete steps were taken to ensure that the full amount due to the poor actually reached them. Our goal was that if one rupee is sent from Delhi, then all 100 paise should reach the beneficiary. For this, we implemented the Direct Benefit Transfer (DBT) system. This stopped the leakage in government schemes and ensured that benefits directly reached the intended recipients. Let me explain — government files contained 10 crore fake beneficiaries. Yes, 10 crore! People who were never even born were receiving full government benefits. This system was created by the earlier governments. Our government removed these 10 crore fake names from the system and ensured that the entire amount reached the poor directly into their bank accounts via DBT. As a result, more than 3.5 lakh crore rupees — yes, over 3.5 lakh crore rupees— was saved from falling into the wrong hands. In other words, we saved your money. Your money was saved, but Modi was rebuked.\\n\\nFriends,\\n\\nTake the case of One Rank, One Pension (OROP). It had been pending for many decades. Earlier, it was dismissed with the excuse that it would burden the government treasury. But our government placed the interests of those who dedicated their lives to defending the nation above everything else. Today, lakhs of soldier families are benefiting from OROP. So far, our government has disbursed more than 1.25 lakh crore rupees to ex-servicemen under this scheme.\\n\""
      ]
     },
     "execution_count": 5,
     "metadata": {},
     "output_type": "execute_result"
    }
   ],
   "source": [
    "speech"
   ]
  },
  {
   "cell_type": "code",
   "execution_count": 9,
   "id": "e1a56ecb",
   "metadata": {},
   "outputs": [],
   "source": [
    "chat_message = [\n",
    "    SystemMessage(content=\"You are an expert with an expertise in summarizing speech\"),\n",
    "    HumanMessage(content=f\"Please provide a short and concisse summary of following speech:\\n Text: {speech}\")\n",
    "]"
   ]
  },
  {
   "cell_type": "code",
   "execution_count": 7,
   "id": "c30fca3f",
   "metadata": {},
   "outputs": [
    {
     "name": "stderr",
     "output_type": "stream",
     "text": [
      "c:\\Mayura\\Programming\\Github_Projects\\LangChain\\venv\\lib\\site-packages\\tqdm\\auto.py:21: TqdmWarning: IProgress not found. Please update jupyter and ipywidgets. See https://ipywidgets.readthedocs.io/en/stable/user_install.html\n",
      "  from .autonotebook import tqdm as notebook_tqdm\n",
      "Token indices sequence length is longer than the specified maximum sequence length for this model (1251 > 1024). Running this sequence through the model will result in indexing errors\n"
     ]
    },
    {
     "data": {
      "text/plain": [
       "1251"
      ]
     },
     "execution_count": 7,
     "metadata": {},
     "output_type": "execute_result"
    }
   ],
   "source": [
    "llm.get_num_tokens(speech)"
   ]
  },
  {
   "cell_type": "code",
   "execution_count": 10,
   "id": "45227be0",
   "metadata": {},
   "outputs": [
    {
     "data": {
      "text/plain": [
       "'Here is a concise summary of the speech:\\n\\nThe speaker expresses gratitude for the opportunity to meet the team and participants of the Bharat Mandapam summit, which has brought together a diverse group of people, including youth and women. He highlights the unique feature of the summit, which includes the experiences shared by women entrepreneurs and the enthusiasm with which they discussed their stories.\\n\\nThe speaker emphasizes the importance of putting the nation\\'s interests first and having faith in the country\\'s capabilities to achieve its goals. He highlights the progress made by the government in various sectors, including banking, Air India, and the Direct Benefit Transfer system, which has ensured that benefits reach the intended recipients without leakage.\\n\\nHe also mentions the successful implementation of the One Rank, One Pension scheme, which has benefited lakhs of soldier families. The speaker concludes by expressing hope that the country will continue to move forward with the \"Nation First\" policy and achieve its goal of becoming a \"Viksit Bharat\" by 2047.'"
      ]
     },
     "execution_count": 10,
     "metadata": {},
     "output_type": "execute_result"
    }
   ],
   "source": [
    "llm(chat_message).content"
   ]
  },
  {
   "cell_type": "code",
   "execution_count": 11,
   "id": "eac03914",
   "metadata": {},
   "outputs": [
    {
     "data": {
      "text/plain": [
       "AIMessage(content='Here is a concise summary of the speech:\\n\\nThe speaker commends the diverse and vibrant gathering at the Bharat Mandapam summit, highlighting the presence of youth and women. They express optimism about India\\'s progress, citing the country\\'s capability, resources, and willpower to achieve a \"Viksit Bharat\" (Developed India) by 2047. The speaker congratulates the organizers and praises the participation of youth. They also announce the finalization of the India-UK Free Trade Agreement, which will boost economic activity and open new opportunities for Indian businesses.\\n\\nThe speaker emphasizes the importance of putting the nation\\'s interests first and having faith in the country\\'s capabilities. They criticize the previous mindset of prioritizing self-serving interests over the nation\\'s well-being. The speaker highlights the government\\'s reforms in the banking sector, Direct Benefit Transfer (DBT) system, and One Rank, One Pension (OROP) scheme, which have improved the country\\'s economy and ensured benefits reach the intended recipients.', additional_kwargs={}, response_metadata={'token_usage': {'completion_tokens': 203, 'prompt_tokens': 1258, 'total_tokens': 1461, 'completion_time': 0.169166667, 'prompt_time': 0.156054835, 'queue_time': 0.252113714, 'total_time': 0.325221502}, 'model_name': 'Llama3-8b-8192', 'system_fingerprint': 'fp_179b0f92c9', 'finish_reason': 'stop', 'logprobs': None}, id='run-6b154c2b-bb98-409e-b752-5accb34058f7-0', usage_metadata={'input_tokens': 1258, 'output_tokens': 203, 'total_tokens': 1461})"
      ]
     },
     "execution_count": 11,
     "metadata": {},
     "output_type": "execute_result"
    }
   ],
   "source": [
    "llm(chat_message)"
   ]
  },
  {
   "cell_type": "markdown",
   "id": "bfb9a95d",
   "metadata": {},
   "source": [
    "### Prompt Template Text Summarization"
   ]
  },
  {
   "cell_type": "code",
   "execution_count": 12,
   "id": "9173d384",
   "metadata": {},
   "outputs": [
    {
     "data": {
      "text/plain": [
       "PromptTemplate(input_variables=['language', 'speech'], input_types={}, partial_variables={}, template='\\nWrite a summary of the following speech:\\nSpeech: {speech}\\nTranslate the precise summary to {language}\\n')"
      ]
     },
     "execution_count": 12,
     "metadata": {},
     "output_type": "execute_result"
    }
   ],
   "source": [
    "from langchain.chains import LLMChain\n",
    "from langchain import PromptTemplate\n",
    "\n",
    "generic_template = \"\"\"\n",
    "Write a summary of the following speech:\n",
    "Speech: {speech}\n",
    "Translate the precise summary to {language}\n",
    "\"\"\"\n",
    "prompt = PromptTemplate(\n",
    "    input_variables = [\"speech\", \"language\"],\n",
    "    template=generic_template\n",
    ")\n",
    "prompt\n",
    "# llm, prompt, stroutput\n",
    "# prompt|llm|stroutput"
   ]
  },
  {
   "cell_type": "code",
   "execution_count": 14,
   "id": "90991259",
   "metadata": {},
   "outputs": [
    {
     "data": {
      "text/plain": [
       "\"\\nWrite a summary of the following speech:\\nSpeech: \\nSince this morning, Bharat Mandapam has become a vibrant platform. Just a few minutes ago, I had the opportunity to meet your team. This summit has been full of diversity. Many dignitaries have added colour to this summit. I believe your experience must have been very enriching as well. The large presence of youth and women in this summit has, in a way, become its unique feature. Especially, the experiences shared by our Drone Didis and Lakhpati Didis—when I met all these anchors just now, I could see the enthusiasm with which they were sharing their stories. They remembered every dialogue of theirs. This, in itself, has been a truly inspiring occasion.\\n\\nFriends,\\n\\nThis is a reflection of the changing Bharat, which is raising its voice in every field. The biggest dream of this transforming Bharat is — a ‘Viksit Bharat’ (Developed India) by 2047. Our country has the capability, the resources, and the willpower to achieve this. Swami Vivekananda used to say — “Arise, awake, and stop not till the goal is reached.” Today, I can see that very spirit in every Indian. Such deliberations, such discussions, and especially the participation of youth, play a crucial role to achieve the goal of a ‘Viksit Bharat’. You have organized such a wonderful summit, and for this, I heartily congratulate my friend Atideb Sarkar ji, my old colleague Rajneesh, and the entire ABP Network team.\\n\\nFriends,\\n\\nToday is a historic day for Bharat. Just a short while ago, I had a conversation with the Prime Minister of the United Kingdom before coming here. I’m happy to share that the India–UK Free Trade Agreement has now been finalized. This agreement on mutual trade and economic cooperation between two of the world's major and open-market economies will add a new chapter to the development of both countries. This is great news, especially for our youth. It will give a boost to economic activity in Bharat and open up new opportunities for Indian businesses and MSMEs. As you know, we have recently signed trade agreements with countries like UAE, Australia, and Mauritius as well. This shows that Bharat is not just implementing reforms, but is also actively engaging with the world and transforming itself into a vibrant hub for trade and commerce.\\n\\nFriends,\\n\\nTo make bold decisions and to achieve our goals, it is essential to put the nation’s interests first and to have faith in the country’s capabilities. Unfortunately, there was a prevailing contrary mind-set for decades in our country and the nation suffered greatly because of it. There was a time when before taking any major decision or step, leaders would think: What will the world think? Will it get us votes? Will the chair remain secure? Will the vote bank slip away? Major decisions and big reforms kept getting postponed because of various self-serving interests.\\n\\nFriends,\\n\\nNo country can move forward in such a manner. A nation progresses only when the sole criterion for every decision is — Nation First. Over the past decade, Bharat has moved forward with this very policy. And today, we are witnessing its results.\\n\\nFriends,\\n\\nIn the past 10–11 years, our government has made one decision after another — decisions that had been stuck, delayed, or derailed for decades, locked away due to lack of political will. Take, for example, our banking sector — which is the backbone of the economy. Earlier, no summit would be complete without discussing the losses of banks. And banks in our country were on the verge of complete collapse before 2014. But what is the situation today? Today, Bharat’s banking sector is among the strongest systems in the world. Our banks are posting record profits, and depositors are reaping the benefits. This has been possible because our government continuously carried out reforms in the banking sector — merging smaller banks in the national interest and enhancing their capabilities. You might also remember the previous state of Air India. Air India was sinking, and thousands of crores of rupees were being lost every year. Yet the earlier governments were afraid to take a decision. We took that decision and saved the country from continuous losses. Why? Because, the interest of the nation comes first for us.\\n\\nFriends,\\n\\nA former Prime Minister of our country once admitted that when the government sends one rupee to the poor, 85 paise gets lost along the way. Governments changed, years passed, but no concrete steps were taken to ensure that the full amount due to the poor actually reached them. Our goal was that if one rupee is sent from Delhi, then all 100 paise should reach the beneficiary. For this, we implemented the Direct Benefit Transfer (DBT) system. This stopped the leakage in government schemes and ensured that benefits directly reached the intended recipients. Let me explain — government files contained 10 crore fake beneficiaries. Yes, 10 crore! People who were never even born were receiving full government benefits. This system was created by the earlier governments. Our government removed these 10 crore fake names from the system and ensured that the entire amount reached the poor directly into their bank accounts via DBT. As a result, more than 3.5 lakh crore rupees — yes, over 3.5 lakh crore rupees— was saved from falling into the wrong hands. In other words, we saved your money. Your money was saved, but Modi was rebuked.\\n\\nFriends,\\n\\nTake the case of One Rank, One Pension (OROP). It had been pending for many decades. Earlier, it was dismissed with the excuse that it would burden the government treasury. But our government placed the interests of those who dedicated their lives to defending the nation above everything else. Today, lakhs of soldier families are benefiting from OROP. So far, our government has disbursed more than 1.25 lakh crore rupees to ex-servicemen under this scheme.\\n\\nTranslate the precise summary to French\\n\""
      ]
     },
     "execution_count": 14,
     "metadata": {},
     "output_type": "execute_result"
    }
   ],
   "source": [
    "complete_prompt = prompt.format(speech=speech, language='French')\n",
    "complete_prompt"
   ]
  },
  {
   "cell_type": "code",
   "execution_count": 15,
   "id": "cd28a906",
   "metadata": {},
   "outputs": [
    {
     "data": {
      "text/plain": [
       "1274"
      ]
     },
     "execution_count": 15,
     "metadata": {},
     "output_type": "execute_result"
    }
   ],
   "source": [
    "llm.get_num_tokens(complete_prompt)"
   ]
  },
  {
   "cell_type": "code",
   "execution_count": null,
   "id": "20916580",
   "metadata": {},
   "outputs": [],
   "source": []
  }
 ],
 "metadata": {
  "kernelspec": {
   "display_name": "venv",
   "language": "python",
   "name": "python3"
  },
  "language_info": {
   "codemirror_mode": {
    "name": "ipython",
    "version": 3
   },
   "file_extension": ".py",
   "mimetype": "text/x-python",
   "name": "python",
   "nbconvert_exporter": "python",
   "pygments_lexer": "ipython3",
   "version": "3.10.9"
  }
 },
 "nbformat": 4,
 "nbformat_minor": 5
}
