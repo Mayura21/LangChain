{
 "cells": [
  {
   "cell_type": "markdown",
   "metadata": {},
   "source": [
    "### Components of Langchain"
   ]
  },
  {
   "cell_type": "code",
   "execution_count": 1,
   "metadata": {},
   "outputs": [],
   "source": [
    "import os\n",
    "from dotenv import load_dotenv"
   ]
  },
  {
   "cell_type": "code",
   "execution_count": 2,
   "metadata": {},
   "outputs": [
    {
     "data": {
      "text/plain": [
       "True"
      ]
     },
     "execution_count": 2,
     "metadata": {},
     "output_type": "execute_result"
    }
   ],
   "source": [
    "load_dotenv()"
   ]
  },
  {
   "cell_type": "code",
   "execution_count": null,
   "metadata": {},
   "outputs": [],
   "source": [
    "# Import api keys\n",
    "os.environ['OPENAI_API_KEY'] = os.getenv('OPENAI_API_KEY')\n",
    "# Langsmith Tracking\n",
    "os.environ['LANGCHAIN_KEY'] = os.getenv('LANGCHAIN_KEY')\n",
    "os.environ[\"LANGCHAIN_TRACING_V2\"] = \"true\"\n",
    "os.environ[\"LANGCHAIN_PROJECT\"] = os.getenv('LANGCHAIN_PROJECT')"
   ]
  },
  {
   "cell_type": "code",
   "execution_count": 10,
   "metadata": {},
   "outputs": [
    {
     "name": "stdout",
     "output_type": "stream",
     "text": [
      "client=<openai.resources.chat.completions.completions.Completions object at 0x000001B2AD6F1E10> async_client=<openai.resources.chat.completions.completions.AsyncCompletions object at 0x000001B2AD6E05E0> root_client=<openai.OpenAI object at 0x000001B2AD6BFCA0> root_async_client=<openai.AsyncOpenAI object at 0x000001B2AD6F1E70> model_name='gpt-4o' model_kwargs={} openai_api_key=SecretStr('**********')\n"
     ]
    }
   ],
   "source": [
    "from langchain_openai import ChatOpenAI\n",
    "llm = ChatOpenAI(model=\"gpt-4o\")\n",
    "print(llm)"
   ]
  },
  {
   "cell_type": "code",
   "execution_count": 12,
   "metadata": {},
   "outputs": [],
   "source": [
    "# Input and get response from LLM\n",
    "\n",
    "result = llm.invoke(\"How is generative AI?\")"
   ]
  },
  {
   "cell_type": "code",
   "execution_count": 13,
   "metadata": {},
   "outputs": [
    {
     "data": {
      "text/plain": [
       "AIMessage(content=\"Generative AI refers to a class of artificial intelligence systems that can create new content, such as text, images, music, and more, based on the data they have been trained on. This technology has seen significant advancements and is being used in a variety of applications. Here are some key aspects:\\n\\n1. **Text Generation**: Tools like OpenAI's GPT (Generative Pretrained Transformer) models, including ChatGPT, can generate coherent and contextually relevant text, making them useful for chatbots, content creation, and more.\\n\\n2. **Image and Video Generation**: AI models like DALL-E and Stable Diffusion can generate high-quality images from textual descriptions. There are also models that can create videos, though this is currently less advanced compared to text and image generation.\\n\\n3. **Music and Audio**: Generative AI is being used to create original music compositions, sound effects, and even voice synthesis, which is finding applications in entertainment and media production.\\n\\n4. **Applications**: Generative AI is finding applications across industries, including marketing, gaming, fashion, and beyond. It's used for rapid prototyping in design, personalized content creation, and enhancing creativity.\\n\\n5. **Ethical Considerations**: The rise of generative AI brings several ethical concerns, such as the potential for creating deepfakes, privacy issues, copyright and intellectual property challenges, and the risk of perpetuating biases present in the training data.\\n\\n6. **Innovation and Research**: Continual research is being conducted to improve the capabilities of generative models, enhance their efficiency, and address ethical concerns. Techniques like fine-tuning and reinforcement learning from human feedback are being used to improve model performance.\\n\\nGenerative AI is a rapidly evolving field with the potential to transform many aspects of digital creation and communication. However, managing its implications responsibly remains a key challenge.\", additional_kwargs={'refusal': None}, response_metadata={'token_usage': {'completion_tokens': 374, 'prompt_tokens': 13, 'total_tokens': 387, 'completion_tokens_details': {'accepted_prediction_tokens': 0, 'audio_tokens': 0, 'reasoning_tokens': 0, 'rejected_prediction_tokens': 0}, 'prompt_tokens_details': {'audio_tokens': 0, 'cached_tokens': 0}}, 'model_name': 'gpt-4o-2024-08-06', 'system_fingerprint': 'fp_eb9dce56a8', 'finish_reason': 'stop', 'logprobs': None}, id='run-707c50a6-70ac-46de-be7c-6555aa373940-0', usage_metadata={'input_tokens': 13, 'output_tokens': 374, 'total_tokens': 387, 'input_token_details': {'audio': 0, 'cache_read': 0}, 'output_token_details': {'audio': 0, 'reasoning': 0}})"
      ]
     },
     "execution_count": 13,
     "metadata": {},
     "output_type": "execute_result"
    }
   ],
   "source": [
    "result"
   ]
  },
  {
   "cell_type": "code",
   "execution_count": 14,
   "metadata": {},
   "outputs": [
    {
     "data": {
      "text/plain": [
       "\"Generative AI refers to a class of artificial intelligence systems that can create new content, such as text, images, music, and more, based on the data they have been trained on. This technology has seen significant advancements and is being used in a variety of applications. Here are some key aspects:\\n\\n1. **Text Generation**: Tools like OpenAI's GPT (Generative Pretrained Transformer) models, including ChatGPT, can generate coherent and contextually relevant text, making them useful for chatbots, content creation, and more.\\n\\n2. **Image and Video Generation**: AI models like DALL-E and Stable Diffusion can generate high-quality images from textual descriptions. There are also models that can create videos, though this is currently less advanced compared to text and image generation.\\n\\n3. **Music and Audio**: Generative AI is being used to create original music compositions, sound effects, and even voice synthesis, which is finding applications in entertainment and media production.\\n\\n4. **Applications**: Generative AI is finding applications across industries, including marketing, gaming, fashion, and beyond. It's used for rapid prototyping in design, personalized content creation, and enhancing creativity.\\n\\n5. **Ethical Considerations**: The rise of generative AI brings several ethical concerns, such as the potential for creating deepfakes, privacy issues, copyright and intellectual property challenges, and the risk of perpetuating biases present in the training data.\\n\\n6. **Innovation and Research**: Continual research is being conducted to improve the capabilities of generative models, enhance their efficiency, and address ethical concerns. Techniques like fine-tuning and reinforcement learning from human feedback are being used to improve model performance.\\n\\nGenerative AI is a rapidly evolving field with the potential to transform many aspects of digital creation and communication. However, managing its implications responsibly remains a key challenge.\""
      ]
     },
     "execution_count": 14,
     "metadata": {},
     "output_type": "execute_result"
    }
   ],
   "source": [
    "result.content"
   ]
  },
  {
   "cell_type": "code",
   "execution_count": 15,
   "metadata": {},
   "outputs": [],
   "source": [
    "# How you want model to behave?\n",
    "# Chat prompt Template\n",
    "\n",
    "from langchain_core.prompts import ChatPromptTemplate"
   ]
  },
  {
   "cell_type": "code",
   "execution_count": 17,
   "metadata": {},
   "outputs": [
    {
     "data": {
      "text/plain": [
       "ChatPromptTemplate(input_variables=['input'], input_types={}, partial_variables={}, messages=[SystemMessagePromptTemplate(prompt=PromptTemplate(input_variables=[], input_types={}, partial_variables={}, template='You are an expert AI Engineer. Provide me answers based on the question.'), additional_kwargs={}), HumanMessagePromptTemplate(prompt=PromptTemplate(input_variables=['input'], input_types={}, partial_variables={}, template='{input}'), additional_kwargs={})])"
      ]
     },
     "execution_count": 17,
     "metadata": {},
     "output_type": "execute_result"
    }
   ],
   "source": [
    "prompt = ChatPromptTemplate.from_messages(\n",
    "    [\n",
    "        (\"system\", \"You are an expert AI Engineer. Provide me answers based on the question.\"),\n",
    "        (\"user\", \"{input}\")\n",
    "    ]\n",
    ")\n",
    "prompt"
   ]
  },
  {
   "cell_type": "code",
   "execution_count": 18,
   "metadata": {},
   "outputs": [
    {
     "name": "stdout",
     "output_type": "stream",
     "text": [
      "content='Langsmith is a platform associated with LangChain, designed for the development, testing, and deployment of language model-based applications. It provides tools to prototype, evaluate, debug, and monitor such applications effectively. Langsmith facilitates seamless experimentation with various language models and configurations, enabling developers to tailor their applications to better fit specific needs and use cases. It includes capabilities for validating and iterating on prompts, managing model inputs and outputs, and integrating with LangChain to leverage its ecosystem of model providers and utilities. The platform emphasizes ease of use and efficiency in building sophisticated, production-ready language model services.' additional_kwargs={'refusal': None} response_metadata={'token_usage': {'completion_tokens': 119, 'prompt_tokens': 34, 'total_tokens': 153, 'completion_tokens_details': {'accepted_prediction_tokens': 0, 'audio_tokens': 0, 'reasoning_tokens': 0, 'rejected_prediction_tokens': 0}, 'prompt_tokens_details': {'audio_tokens': 0, 'cached_tokens': 0}}, 'model_name': 'gpt-4o-2024-08-06', 'system_fingerprint': 'fp_eb9dce56a8', 'finish_reason': 'stop', 'logprobs': None} id='run-eb1734eb-4c7f-41c3-b7d6-fa0d786a7e73-0' usage_metadata={'input_tokens': 34, 'output_tokens': 119, 'total_tokens': 153, 'input_token_details': {'audio': 0, 'cache_read': 0}, 'output_token_details': {'audio': 0, 'reasoning': 0}}\n"
     ]
    }
   ],
   "source": [
    "chain = prompt | llm\n",
    "\n",
    "response = chain.invoke({\"input\": \"Can you tell me about Langsmith?\"})\n",
    "print(response)"
   ]
  },
  {
   "cell_type": "code",
   "execution_count": 19,
   "metadata": {},
   "outputs": [
    {
     "data": {
      "text/plain": [
       "langchain_core.messages.ai.AIMessage"
      ]
     },
     "execution_count": 19,
     "metadata": {},
     "output_type": "execute_result"
    }
   ],
   "source": [
    "type(response)"
   ]
  },
  {
   "cell_type": "code",
   "execution_count": 20,
   "metadata": {},
   "outputs": [],
   "source": [
    "# String output parser - stroutput\n",
    "\n",
    "from langchain_core.output_parsers import StrOutputParser"
   ]
  },
  {
   "cell_type": "code",
   "execution_count": 21,
   "metadata": {},
   "outputs": [],
   "source": [
    "output_parser = StrOutputParser()"
   ]
  },
  {
   "cell_type": "code",
   "execution_count": 22,
   "metadata": {},
   "outputs": [],
   "source": [
    "chain = prompt | llm | output_parser"
   ]
  },
  {
   "cell_type": "code",
   "execution_count": 23,
   "metadata": {},
   "outputs": [
    {
     "name": "stdout",
     "output_type": "stream",
     "text": [
      "Langsmith is a platform developed by the team behind LangChain, a framework designed to streamline the creation of applications that leverage large language models (LLMs). Released in mid-2023, Langsmith focuses on providing tools to manage, evaluate, and effectively deploy LLM-powered applications. It includes features for seamless debugging, testing, and monitoring, allowing developers to get a detailed understanding of how their models perform in real-world scenarios.\n",
      "\n",
      "Key features of Langsmith include:\n",
      "\n",
      "1. **Debugging and Testing**: Helps developers identify issues and optimize their applications by offering tools to test models in various conditions.\n",
      "\n",
      "2. **Monitoring and Logging**: Provides comprehensive logging capabilities to track application performance and identify areas for improvement.\n",
      "\n",
      "3. **Evaluation**: Facilitates the assessment of application performance through metrics and analytics, enabling developers to compare different models and approaches.\n",
      "\n",
      "4. **Integration with LangChain**: As an extension of the LangChain ecosystem, Langsmith is inherently compatible, leveraging LangChain’s capabilities in building and managing LLM applications.\n",
      "\n",
      "Langsmith aims to reduce the complexity of working with LLMs by offering a robust infrastructure that allows for rapid iteration and improvement of language-based applications.\n"
     ]
    }
   ],
   "source": [
    "response = chain.invoke({\"input\": \"Can you tell me about Langsmith?\"})\n",
    "print(response)"
   ]
  },
  {
   "cell_type": "code",
   "execution_count": null,
   "metadata": {},
   "outputs": [],
   "source": []
  },
  {
   "cell_type": "code",
   "execution_count": null,
   "metadata": {},
   "outputs": [],
   "source": []
  }
 ],
 "metadata": {
  "kernelspec": {
   "display_name": "venv",
   "language": "python",
   "name": "python3"
  },
  "language_info": {
   "codemirror_mode": {
    "name": "ipython",
    "version": 3
   },
   "file_extension": ".py",
   "mimetype": "text/x-python",
   "name": "python",
   "nbconvert_exporter": "python",
   "pygments_lexer": "ipython3",
   "version": "3.10.9"
  }
 },
 "nbformat": 4,
 "nbformat_minor": 2
}
